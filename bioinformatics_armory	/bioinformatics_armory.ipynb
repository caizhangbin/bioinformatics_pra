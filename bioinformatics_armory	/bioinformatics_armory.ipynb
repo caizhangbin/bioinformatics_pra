{
 "cells": [
  {
   "cell_type": "markdown",
   "metadata": {},
   "source": [
    "Given: A DNA string s of length at most 1000 bp.\n",
    "\n",
    "Return: Four integers (separated by spaces) representing the respective number of times that the symbols 'A', 'C', 'G', and 'T' occur in s. Note: You must provide your answer in the format shown in the sample output below."
   ]
  },
  {
   "cell_type": "code",
   "execution_count": 6,
   "metadata": {},
   "outputs": [
    {
     "name": "stdout",
     "output_type": "stream",
     "text": [
      "245   244   205   258\n"
     ]
    }
   ],
   "source": [
    "from Bio.Seq import Seq\n",
    "# read the contig\n",
    "my_seq = Seq(\"TACACGAGGAGTTTTAAGTTAGGATGTACTACACCCCCTCGAAATTTTCGGTGCCTAGAGCATAGACGCAAGCCCTTTTTAAATCAGGGAATGCTTTATCGTATGTAGCTTCGGATTGTTGTCCCAGATTGACATCACAGTCAACCCTACACGACGCTCCTTCTGCTACCACTCAGCAAAAAATCAAAACCTCTGCCTGGTGCCGTGTCACTTGGTAAAGAATTGTTGATATGGTCAGGCGTTCTGTCCACCGCCAGAGTCGGATTTTCTGGAAACAAGGTCTATTCACTACCTCCCGTCGGACTTAGTGTCGTGTTAACAATGACCTCATAACTAGACGTTAAGGCACTCGGTTAAAGTATGGCAACCAGCGGGGGGCTCCATGACTTCCTGGTAAGAACAGTTCCCAGTTAGTGAATTGCACCCAACGTATGACGCGTGAACCAGTTACTCGCTATAGAGGTCTAAGTCGGTTCAAACGAAATACAGGATAACCGACTAAGTAGTCGCTTATACTGCACAGAGCAGTAGTGGGGATATCCGTCTTCTAGTGCTCTTCGGAGGGCGCCTCCCAGCTCTCGTCCAAATTCATGCTCCGAATTATTTACTCGCTATTCGGCCCATCTAACGTACATGCCATTACGACACACCAAAAACTGAATAGCATAATGGAGTGTTGGCCCTCAGCTTCGACAGTACCTCGGCTTGCTTATAGACCCTATATTACCGTTACTATCGAGTTATTCTAAACTGCTATTGCCCGGACAGTAAAGGGTTTACTGTCCAACTGCCAATTGTCGTGGCTGATGACTCAATGCGGGCCTGCCGCAGCTCGGTTCTCCTGACCTAGGATGCCTTGCCCGGAACGGATTTGGGTTTTATACCTACTACTCCTATAGGATGAGTTATTCAAGCATACAAATCATCCACAATCCGCTACTTTCGAACAGAT\")\n",
    "\n",
    "print(my_seq.count(\"A\"), \" \",my_seq.count(\"C\"),\" \", my_seq.count(\"G\") ,\" \", my_seq.count(\"T\"))\n"
   ]
  },
  {
   "cell_type": "markdown",
   "metadata": {},
   "source": [
    "GenBank Introduction\n",
    "\n",
    "Given: A genus name, followed by two dates in YYYY/M/D format.\n",
    "\n",
    "Return: The number of Nucleotide GenBank entries for the given genus that were published between the dates specified."
   ]
  },
  {
   "cell_type": "code",
   "execution_count": 21,
   "metadata": {},
   "outputs": [
    {
     "name": "stdout",
     "output_type": "stream",
     "text": [
      "146\n"
     ]
    }
   ],
   "source": [
    "from Bio import Entrez\n",
    "\n",
    "Entrez.email = \"caizhangbin@gmail.com\"\n",
    "# GenBank gene database\n",
    "geneName = \"Gambelia\"\n",
    "pubDateStart = \"2000/03/13\"\n",
    "pubDateEnd = \"2008/09/19\"\n",
    "searchTerm = f'({geneName}[Organism]) AND(\"{pubDateStart}\"[Publication Date]: \"{pubDateEnd}\"[Publication Date])'\n",
    "\n",
    "handle = Entrez.esearch(db=\"nucleotide\", term=searchTerm)\n",
    "record = Entrez.read(handle)\n",
    "print(record[\"Count\"])"
   ]
  }
 ],
 "metadata": {
  "kernelspec": {
   "display_name": "Python 3",
   "language": "python",
   "name": "python3"
  },
  "language_info": {
   "codemirror_mode": {
    "name": "ipython",
    "version": 3
   },
   "file_extension": ".py",
   "mimetype": "text/x-python",
   "name": "python",
   "nbconvert_exporter": "python",
   "pygments_lexer": "ipython3",
   "version": "3.12.2"
  }
 },
 "nbformat": 4,
 "nbformat_minor": 2
}
