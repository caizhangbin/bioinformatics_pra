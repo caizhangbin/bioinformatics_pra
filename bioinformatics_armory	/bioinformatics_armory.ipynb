{
 "cells": [
  {
   "cell_type": "markdown",
   "metadata": {},
   "source": [
    "Given: A DNA string s of length at most 1000 bp.\n",
    "\n",
    "Return: Four integers (separated by spaces) representing the respective number of times that the symbols 'A', 'C', 'G', and 'T' occur in s. Note: You must provide your answer in the format shown in the sample output below."
   ]
  },
  {
   "cell_type": "code",
   "execution_count": 6,
   "metadata": {},
   "outputs": [
    {
     "name": "stdout",
     "output_type": "stream",
     "text": [
      "245   244   205   258\n"
     ]
    }
   ],
   "source": [
    "from Bio.Seq import Seq\n",
    "# read the contig\n",
    "my_seq = Seq(\"TACACGAGGAGTTTTAAGTTAGGATGTACTACACCCCCTCGAAATTTTCGGTGCCTAGAGCATAGACGCAAGCCCTTTTTAAATCAGGGAATGCTTTATCGTATGTAGCTTCGGATTGTTGTCCCAGATTGACATCACAGTCAACCCTACACGACGCTCCTTCTGCTACCACTCAGCAAAAAATCAAAACCTCTGCCTGGTGCCGTGTCACTTGGTAAAGAATTGTTGATATGGTCAGGCGTTCTGTCCACCGCCAGAGTCGGATTTTCTGGAAACAAGGTCTATTCACTACCTCCCGTCGGACTTAGTGTCGTGTTAACAATGACCTCATAACTAGACGTTAAGGCACTCGGTTAAAGTATGGCAACCAGCGGGGGGCTCCATGACTTCCTGGTAAGAACAGTTCCCAGTTAGTGAATTGCACCCAACGTATGACGCGTGAACCAGTTACTCGCTATAGAGGTCTAAGTCGGTTCAAACGAAATACAGGATAACCGACTAAGTAGTCGCTTATACTGCACAGAGCAGTAGTGGGGATATCCGTCTTCTAGTGCTCTTCGGAGGGCGCCTCCCAGCTCTCGTCCAAATTCATGCTCCGAATTATTTACTCGCTATTCGGCCCATCTAACGTACATGCCATTACGACACACCAAAAACTGAATAGCATAATGGAGTGTTGGCCCTCAGCTTCGACAGTACCTCGGCTTGCTTATAGACCCTATATTACCGTTACTATCGAGTTATTCTAAACTGCTATTGCCCGGACAGTAAAGGGTTTACTGTCCAACTGCCAATTGTCGTGGCTGATGACTCAATGCGGGCCTGCCGCAGCTCGGTTCTCCTGACCTAGGATGCCTTGCCCGGAACGGATTTGGGTTTTATACCTACTACTCCTATAGGATGAGTTATTCAAGCATACAAATCATCCACAATCCGCTACTTTCGAACAGAT\")\n",
    "\n",
    "print(my_seq.count(\"A\"), \" \",my_seq.count(\"C\"),\" \", my_seq.count(\"G\") ,\" \", my_seq.count(\"T\"))\n"
   ]
  }
 ],
 "metadata": {
  "kernelspec": {
   "display_name": "Python 3",
   "language": "python",
   "name": "python3"
  },
  "language_info": {
   "codemirror_mode": {
    "name": "ipython",
    "version": 3
   },
   "file_extension": ".py",
   "mimetype": "text/x-python",
   "name": "python",
   "nbconvert_exporter": "python",
   "pygments_lexer": "ipython3",
   "version": "3.12.2"
  }
 },
 "nbformat": 4,
 "nbformat_minor": 2
}
