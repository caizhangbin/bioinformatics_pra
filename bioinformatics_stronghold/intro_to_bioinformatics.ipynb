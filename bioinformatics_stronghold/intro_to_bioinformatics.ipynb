{
 "cells": [
  {
   "cell_type": "markdown",
   "metadata": {},
   "source": [
    "Given: A DNA string s of length at most 1000 nt.\n",
    "\n",
    "Return: Four integers (separated by spaces) counting the respective number of times that the symbols 'A', 'C', 'G', and 'T' occur in s."
   ]
  },
  {
   "cell_type": "code",
   "execution_count": null,
   "metadata": {},
   "outputs": [],
   "source": [
    "s = \"GCCGGATCATCCTGTTGGCGAGAATGGGGTCCTTGCCTCTACCTCCCCGTGCTAAGAGATCTTAAGGCCCGAGCTTCGCCACGAGCTTACTAAACGCAACGAGTGCTTTGAATACAGTCTGTGCGGCAACATGATTACGGGTTGTGGGCTACGCGTGTGGCTTAGGGGTTTTGGGTCTTTCCCCGACGCAGACTGTGACTCGAAGATCGACTCGAAGCTTGAACACCTTGATGGAGAACACAATTCATCCGTGATCGCACAATCCACATTGTTCATTCTCCACTAAAGAGAGGTACCGCTAAACATCCGTAGCCCGATGCCTCAAATCCGAATCTAAGCGTAAGGATCACGTGTATCTCATGTTTAGGAGGAGAAGGGAGATGTAACCGTCAGGTTCGTCAAAGGCACTAGGACTATGAGAAGAACTCTACAGATGGAATTATTTTGCCCAGGAGAGTTGGTTGTCACGTAAGCGCATGTCTCGCGCTTGCATGAGATCTTGTTAGAGGTTTTTCCAAATTCTGACCGACCTCGTCCGCAAAATCGACTCAGGTGCGACGCACCTAATCATGGATTAACGAACTATTGACAGGTGGGCGTTTATGATCCCGCGAAAGGTCAGAAAGCAATTAAATGGGGTCGTAGTCTAAGCTAGGTGTCTGGATTGCGTGAACCGGCCGGCAGCGGTCAAGGGGCGTCCTAGCACATAAGACAGGGCTAATCTCGGATGGTTAAGGGATCGTAGTTAGCTCTAAGATTTGAGGGAGCAGTCGCTAGCGCGTGACAGCTAACTTCTCGAGTGCCGTTATTATACTCTGGCAACTGCGAAACGTATTGCTTTTAATGGTCCAAGGTGGCATAAAGTAGCTTGCTTCCACTTCCACGGGGCCTTATGCAGGGATTTAGTTACTGGGGTTTATCTACGTCAAGTATTCCTACCGTGGAGAGAACGTAAATGTAGCGAAGCTGGTGTCATATA\"\n",
    "A=0\n",
    "C=0\n",
    "G=0\n",
    "T=0\n",
    "for i in range(len(s)):\n",
    "    if s[i] == 'A':\n",
    "        A = A + 1 \n",
    "    elif s[i] == 'C':\n",
    "        C = C + 1\n",
    "    elif s[i] == 'G':\n",
    "        G = G + 1\n",
    "    elif s[i] == 'T':\n",
    "        T = T + 1\n",
    "\n",
    "print(str(A) + \" \" + str(C) + \" \" + str(G) + \" \" + str(T))"
   ]
  },
  {
   "cell_type": "markdown",
   "metadata": {},
   "source": [
    "Given: A DNA string t having length at most 1000 nt.\n",
    "\n",
    "Return: The transcribed RNA string of t."
   ]
  },
  {
   "cell_type": "code",
   "execution_count": null,
   "metadata": {},
   "outputs": [],
   "source": [
    "t = \"GACCGTGGTCACCTGATATCTCGTATCAAAGGGTTTAGCGTTTCCGTTCGTGAATATATTCACGCGTTGTTTCAAAGGTAGGGTCGTACTTGGTGGTAGGTGTTGCCGCGCCTACCCTACCCAAGTTGTACGTAAAGCACTTTAAAGATCTGGCGACGTCCCGTGCTCATCGCACTTCCACCACGCTCGGTACGGTTCTGCAGCGCTGTCAAGAGCGCTGGATAAGTTCAGAATCGACTAAGCTTGCGAAACTTAGGATTCCTAAACTTGTTTATGCAACCGCCCTCATGTCAATCAAAGTATGCTTGCTCACTGTGAGCACACCCGGCGGAAGCGTAGTACACGGTTCATTAGAAAAGAAACGGAACATCCGGATGGATGTGGTGGTCTCGGCATCATGCCAAATTCGTGGGAGTGTGTTTGCGAACCGGCACGATTCGATTTATCGTCTTCGGTTATGCCCAAGATACCAGATAGGGAGGTCCTGGTCTAATTCACCGACAACCGACCACCATCCATAGGACATAGTGTTACATATTTATTCCCCGGTATGAGGCATGTTTTCTCGCGCCCGACATTGCAGGTTCATGATCTGATGCAGTCGCAGACTTCAACTCGAGAGCTTTCAGCTGTCGGGGGCAGATTTCCGGCGAGCGAAAAGTGAGTCCGAAGAAGTAAAATACGTAAGTCCTAAAAGAGCATGAACGCCAAGTTCTATTCGACTACCAAGGCCTTAATACCATGAGTACCAATGGAACTTTTTAGCGCGACCGCCTGTGGACCAAAACCTGCCAATAAGCCAGCTACGATAGAGCTCCGAGTGCTCCAGCGCGTGAATAAAATCCGCCAGAACTATAAGAAACCAGCTCTTTGGCTAAAGTTGACCCGCGCATTAAGCGTCGACGGTATTGAGGCAGATGCCTACCATGGACAAGTCATCCCAAGTGGGTAGCGAAGACCTCGGTCGCACTTTGAACAGCT\"\n",
    "rna =\"\"\n",
    "\n",
    "for nucleotide in t:\n",
    "    if nucleotide == \"T\":\n",
    "        rna += \"U\"\n",
    "    else:\n",
    "        rna += nucleotide\n",
    "\n",
    "print(rna)"
   ]
  },
  {
   "cell_type": "markdown",
   "metadata": {},
   "source": [
    "Given: A DNA string s of length at most 1000 bp.\n",
    "\n",
    "Return: The reverse complement sc of s."
   ]
  },
  {
   "cell_type": "code",
   "execution_count": null,
   "metadata": {},
   "outputs": [],
   "source": [
    "s = \"CATCCGTACGAACTACCCATACGTGTTAAGGAAGAAATTAGGCCTATATCTTGGAGGATTTCTGTACGTGGATGCGGCTATGCTTCCGGCAACTTCGGGCTCCCCGATTACAACGTGCGCGTATCGCACGATTTTCGTGGCACATTCGATCGTAAAGTGATGGTCAGTCCGCGATCTACTGGCGAGGTAGGATAAAAGGGTATTTCGAACACAGGTACCAGGACGATGCGACAGATGGCTCCACTTCCTCGGGAGACACCCCGCTTCCCTCTTGTATAACATTTGGCGTATATCAAACACACGACTAAGATGGGTCTCAGAACCCTCGCGAGCACCTAGCAGCAGCATCGAACTTGATATTCTCATGCGACCCCAGAGTGCCGTTGATTATGCCCTATCTCTTACCTAGACAAGATCAACGATATATACCCGCGCCTCTATTCAGAGAGGTGGCTTGGGGATGATCCGAAGAGGTCACAGGACGATCTGTGAATGCTCATCCTTAGTACTCAATCCGGTGAGATTGGGGATTACAGATTGCAGCAGTGGTTGTGCAGTTGTCCTGTAGATGTGAGCTACAGTAATTCCCTGGGGATCGCCACTACTGTACCTGTACGTTACGCTTCGGCCGCAGGAAGCTGTGCTACGACTACGCGAGTTTGATCAATTTCGCGGCCTATACGCCAATAGGCAAGACGACACAAGGAGGGGAGATCTTGGGTGAATTTCGACACCACGCGAGAAACCCTAGCGGTCTGGAGCATGGCGCGAGTGCGGAGCCTTCGAGTATCTTCTGGGCGGCGTAGTCTCAGACTTAGTATTTAAGTTCTGTACCGGATGGCACGCGGAGCTTACCTGGATTATTGACGCGTATGCGTTTCAGCTCTGGATGCCTCTCTCGAATCTAGATCGTTCAGGTCGATGCATGAACGGGAGAAAACGTCTTCTTGGGTGTTCCTAAGTGCGTCCCCGACGAAATTCTCCAATGAAT\"\n",
    "reversed = \"\"\n",
    "\n",
    "for nucleotide in s:\n",
    "    if nucleotide == \"A\":\n",
    "        reversed += \"T\"\n",
    "    elif nucleotide == \"C\":\n",
    "        reversed += \"G\"\n",
    "    elif nucleotide == \"G\":\n",
    "        reversed += \"C\"\n",
    "    elif nucleotide == \"T\":\n",
    "        reversed += \"A\"\n",
    "\n",
    "reversed = reversed[::-1]\n",
    "print(reversed)\n",
    "    "
   ]
  },
  {
   "cell_type": "markdown",
   "metadata": {},
   "source": [
    "Given: Positive integers n≤40 and k≤5.\n",
    "\n",
    "Return: The total number of rabbit pairs that will be present after n months, if we begin with 1 pair and in each generation, every pair of reproduction-age rabbits produces a litter of k rabbit pairs (instead of only 1 pair)."
   ]
  },
  {
   "cell_type": "code",
   "execution_count": 10,
   "metadata": {},
   "outputs": [
    {
     "name": "stdout",
     "output_type": "stream",
     "text": [
      "363\n"
     ]
    }
   ],
   "source": [
    "n=5\n",
    "k=3\n",
    "F=0\n",
    "for i in range(1,n+1):\n",
    "    F+=k**i\n",
    "print(F)\n"
   ]
  }
 ],
 "metadata": {
  "kernelspec": {
   "display_name": "Python 3",
   "language": "python",
   "name": "python3"
  },
  "language_info": {
   "codemirror_mode": {
    "name": "ipython",
    "version": 3
   },
   "file_extension": ".py",
   "mimetype": "text/x-python",
   "name": "python",
   "nbconvert_exporter": "python",
   "pygments_lexer": "ipython3",
   "version": "3.12.2"
  }
 },
 "nbformat": 4,
 "nbformat_minor": 2
}
