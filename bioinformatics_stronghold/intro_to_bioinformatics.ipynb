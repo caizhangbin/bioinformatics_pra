{
 "cells": [
  {
   "cell_type": "markdown",
   "metadata": {},
   "source": [
    "Given: A DNA string s of length at most 1000 nt.\n",
    "\n",
    "Return: Four integers (separated by spaces) counting the respective number of times that the symbols 'A', 'C', 'G', and 'T' occur in s."
   ]
  },
  {
   "cell_type": "code",
   "execution_count": null,
   "metadata": {},
   "outputs": [],
   "source": [
    "s = \"GCCGGATCATCCTGTTGGCGAGAATGGGGTCCTTGCCTCTACCTCCCCGTGCTAAGAGATCTTAAGGCCCGAGCTTCGCCACGAGCTTACTAAACGCAACGAGTGCTTTGAATACAGTCTGTGCGGCAACATGATTACGGGTTGTGGGCTACGCGTGTGGCTTAGGGGTTTTGGGTCTTTCCCCGACGCAGACTGTGACTCGAAGATCGACTCGAAGCTTGAACACCTTGATGGAGAACACAATTCATCCGTGATCGCACAATCCACATTGTTCATTCTCCACTAAAGAGAGGTACCGCTAAACATCCGTAGCCCGATGCCTCAAATCCGAATCTAAGCGTAAGGATCACGTGTATCTCATGTTTAGGAGGAGAAGGGAGATGTAACCGTCAGGTTCGTCAAAGGCACTAGGACTATGAGAAGAACTCTACAGATGGAATTATTTTGCCCAGGAGAGTTGGTTGTCACGTAAGCGCATGTCTCGCGCTTGCATGAGATCTTGTTAGAGGTTTTTCCAAATTCTGACCGACCTCGTCCGCAAAATCGACTCAGGTGCGACGCACCTAATCATGGATTAACGAACTATTGACAGGTGGGCGTTTATGATCCCGCGAAAGGTCAGAAAGCAATTAAATGGGGTCGTAGTCTAAGCTAGGTGTCTGGATTGCGTGAACCGGCCGGCAGCGGTCAAGGGGCGTCCTAGCACATAAGACAGGGCTAATCTCGGATGGTTAAGGGATCGTAGTTAGCTCTAAGATTTGAGGGAGCAGTCGCTAGCGCGTGACAGCTAACTTCTCGAGTGCCGTTATTATACTCTGGCAACTGCGAAACGTATTGCTTTTAATGGTCCAAGGTGGCATAAAGTAGCTTGCTTCCACTTCCACGGGGCCTTATGCAGGGATTTAGTTACTGGGGTTTATCTACGTCAAGTATTCCTACCGTGGAGAGAACGTAAATGTAGCGAAGCTGGTGTCATATA\"\n",
    "A=0\n",
    "C=0\n",
    "G=0\n",
    "T=0\n",
    "for i in range(len(s)):\n",
    "    if s[i] == 'A':\n",
    "        A = A + 1 \n",
    "    elif s[i] == 'C':\n",
    "        C = C + 1\n",
    "    elif s[i] == 'G':\n",
    "        G = G + 1\n",
    "    elif s[i] == 'T':\n",
    "        T = T + 1\n",
    "\n",
    "print(str(A) + \" \" + str(C) + \" \" + str(G) + \" \" + str(T))"
   ]
  },
  {
   "cell_type": "markdown",
   "metadata": {},
   "source": [
    "Given: A DNA string t having length at most 1000 nt.\n",
    "\n",
    "Return: The transcribed RNA string of t."
   ]
  },
  {
   "cell_type": "code",
   "execution_count": null,
   "metadata": {},
   "outputs": [],
   "source": [
    "t = \"GACCGTGGTCACCTGATATCTCGTATCAAAGGGTTTAGCGTTTCCGTTCGTGAATATATTCACGCGTTGTTTCAAAGGTAGGGTCGTACTTGGTGGTAGGTGTTGCCGCGCCTACCCTACCCAAGTTGTACGTAAAGCACTTTAAAGATCTGGCGACGTCCCGTGCTCATCGCACTTCCACCACGCTCGGTACGGTTCTGCAGCGCTGTCAAGAGCGCTGGATAAGTTCAGAATCGACTAAGCTTGCGAAACTTAGGATTCCTAAACTTGTTTATGCAACCGCCCTCATGTCAATCAAAGTATGCTTGCTCACTGTGAGCACACCCGGCGGAAGCGTAGTACACGGTTCATTAGAAAAGAAACGGAACATCCGGATGGATGTGGTGGTCTCGGCATCATGCCAAATTCGTGGGAGTGTGTTTGCGAACCGGCACGATTCGATTTATCGTCTTCGGTTATGCCCAAGATACCAGATAGGGAGGTCCTGGTCTAATTCACCGACAACCGACCACCATCCATAGGACATAGTGTTACATATTTATTCCCCGGTATGAGGCATGTTTTCTCGCGCCCGACATTGCAGGTTCATGATCTGATGCAGTCGCAGACTTCAACTCGAGAGCTTTCAGCTGTCGGGGGCAGATTTCCGGCGAGCGAAAAGTGAGTCCGAAGAAGTAAAATACGTAAGTCCTAAAAGAGCATGAACGCCAAGTTCTATTCGACTACCAAGGCCTTAATACCATGAGTACCAATGGAACTTTTTAGCGCGACCGCCTGTGGACCAAAACCTGCCAATAAGCCAGCTACGATAGAGCTCCGAGTGCTCCAGCGCGTGAATAAAATCCGCCAGAACTATAAGAAACCAGCTCTTTGGCTAAAGTTGACCCGCGCATTAAGCGTCGACGGTATTGAGGCAGATGCCTACCATGGACAAGTCATCCCAAGTGGGTAGCGAAGACCTCGGTCGCACTTTGAACAGCT\"\n",
    "rna =\"\"\n",
    "\n",
    "for nucleotide in t:\n",
    "    if nucleotide == \"T\":\n",
    "        rna += \"U\"\n",
    "    else:\n",
    "        rna += nucleotide\n",
    "\n",
    "print(rna)"
   ]
  },
  {
   "cell_type": "markdown",
   "metadata": {},
   "source": [
    "Given: A DNA string s of length at most 1000 bp.\n",
    "\n",
    "Return: The reverse complement sc of s."
   ]
  },
  {
   "cell_type": "code",
   "execution_count": null,
   "metadata": {},
   "outputs": [],
   "source": [
    "s = \"CATCCGTACGAACTACCCATACGTGTTAAGGAAGAAATTAGGCCTATATCTTGGAGGATTTCTGTACGTGGATGCGGCTATGCTTCCGGCAACTTCGGGCTCCCCGATTACAACGTGCGCGTATCGCACGATTTTCGTGGCACATTCGATCGTAAAGTGATGGTCAGTCCGCGATCTACTGGCGAGGTAGGATAAAAGGGTATTTCGAACACAGGTACCAGGACGATGCGACAGATGGCTCCACTTCCTCGGGAGACACCCCGCTTCCCTCTTGTATAACATTTGGCGTATATCAAACACACGACTAAGATGGGTCTCAGAACCCTCGCGAGCACCTAGCAGCAGCATCGAACTTGATATTCTCATGCGACCCCAGAGTGCCGTTGATTATGCCCTATCTCTTACCTAGACAAGATCAACGATATATACCCGCGCCTCTATTCAGAGAGGTGGCTTGGGGATGATCCGAAGAGGTCACAGGACGATCTGTGAATGCTCATCCTTAGTACTCAATCCGGTGAGATTGGGGATTACAGATTGCAGCAGTGGTTGTGCAGTTGTCCTGTAGATGTGAGCTACAGTAATTCCCTGGGGATCGCCACTACTGTACCTGTACGTTACGCTTCGGCCGCAGGAAGCTGTGCTACGACTACGCGAGTTTGATCAATTTCGCGGCCTATACGCCAATAGGCAAGACGACACAAGGAGGGGAGATCTTGGGTGAATTTCGACACCACGCGAGAAACCCTAGCGGTCTGGAGCATGGCGCGAGTGCGGAGCCTTCGAGTATCTTCTGGGCGGCGTAGTCTCAGACTTAGTATTTAAGTTCTGTACCGGATGGCACGCGGAGCTTACCTGGATTATTGACGCGTATGCGTTTCAGCTCTGGATGCCTCTCTCGAATCTAGATCGTTCAGGTCGATGCATGAACGGGAGAAAACGTCTTCTTGGGTGTTCCTAAGTGCGTCCCCGACGAAATTCTCCAATGAAT\"\n",
    "reversed = \"\"\n",
    "\n",
    "for nucleotide in s:\n",
    "    if nucleotide == \"A\":\n",
    "        reversed += \"T\"\n",
    "    elif nucleotide == \"C\":\n",
    "        reversed += \"G\"\n",
    "    elif nucleotide == \"G\":\n",
    "        reversed += \"C\"\n",
    "    elif nucleotide == \"T\":\n",
    "        reversed += \"A\"\n",
    "\n",
    "reversed = reversed[::-1]\n",
    "print(reversed)\n",
    "    "
   ]
  },
  {
   "cell_type": "markdown",
   "metadata": {},
   "source": [
    "Given: Positive integers n≤40 and k≤5.\n",
    "\n",
    "Return: The total number of rabbit pairs that will be present after n months, if we begin with 1 pair and in each generation, every pair of reproduction-age rabbits produces a litter of k rabbit pairs (instead of only 1 pair)."
   ]
  },
  {
   "cell_type": "code",
   "execution_count": null,
   "metadata": {},
   "outputs": [],
   "source": [
    "n=30\n",
    "k=5\n",
    "\n",
    "def wabbits(n, k):\n",
    "   if n == 0:\n",
    "    return 0\n",
    "   if n == 1:\n",
    "    return 1\n",
    "   else:\n",
    "    return wabbits(n-1, k) + k*wabbits(n-2, k)\n",
    "\n",
    "    \n",
    "print (wabbits(n, k))\n",
    "    "
   ]
  },
  {
   "cell_type": "markdown",
   "metadata": {},
   "source": [
    "The GC-content of a DNA string is given by the percentage of symbols in the string that are 'C' or 'G'. For example, the GC-content of \"AGCTATAG\" is 37.5%. Note that the reverse complement of any DNA string has the same GC-content.\n",
    "\n",
    "DNA strings must be labeled when they are consolidated into a database. A commonly used method of string labeling is called FASTA format. In this format, the string is introduced by a line that begins with '>', followed by some labeling information. Subsequent lines contain the string itself; the first line to begin with '>' indicates the label of the next string.\n",
    "\n",
    "In Rosalind's implementation, a string in FASTA format will be labeled by the ID \"Rosalind_xxxx\", where \"xxxx\" denotes a four-digit code between 0000 and 9999.\n",
    "\n",
    "Given: At most 10 DNA strings in FASTA format (of length at most 1 kbp each).\n",
    "\n",
    "Return: The ID of the string having the highest GC-content, followed by the GC-content of that string. Rosalind allows for a default error of 0.001 in all decimal answers unless otherwise stated; please see the note on absolute error below."
   ]
  },
  {
   "cell_type": "code",
   "execution_count": 1,
   "metadata": {},
   "outputs": [
    {
     "name": "stdout",
     "output_type": "stream",
     "text": [
      "The highest GC content is 52.795031% in contig >Rosalind_0145.\n"
     ]
    }
   ],
   "source": [
    "\n",
    "with open(\"../bioinformatics_stronghold/txt/rosalind_gc.txt\", 'r') as f:\n",
    "    contig_dict = {}\n",
    "    contig_name = \"\"\n",
    "    sequence = \"\"\n",
    "\n",
    "    # Iterate through each line in the file\n",
    "    for line in f:\n",
    "        # If the line starts with '>', it's a new contig\n",
    "        if line.startswith('>'):\n",
    "            # If we've been reading a sequence, it's time to save it\n",
    "            if sequence != \"\":\n",
    "                contig_dict[contig_name] = sequence\n",
    "                sequence = \"\"\n",
    "            # Save the contig name\n",
    "            contig_name = line.strip()\n",
    "        else:\n",
    "            # Add the current line to the sequence\n",
    "            sequence += line.strip()\n",
    "\n",
    "    # Don't forget to save the last sequence after finishing reading the file\n",
    "    if sequence != \"\":\n",
    "        contig_dict[contig_name] = sequence\n",
    "\n",
    "# Print the dictionary\n",
    "#print(contig_dict)\n",
    "\n",
    "\"\"\"\n",
    "    This function takes a dictionary of contig names and sequences and returns the name of the contig with the highest GC content.\n",
    "\"\"\"\n",
    "\n",
    "def find_highest_GC_content(contig_dict):\n",
    "    highest_GC_content = 0\n",
    "    highest_GC_contig = \"\"\n",
    "    for contig_name, sequence in contig_dict.items():\n",
    "        # Count the number of G and C nucleotides in the sequence\n",
    "        G_count = sequence.count('G')\n",
    "        C_count = sequence.count('C')\n",
    "        # Calculate the GC content as the ratio of G+C to total nucleotides\n",
    "        GC_content = ((G_count + C_count) / len(sequence)) * 100\n",
    "        # If the GC content is higher than the current highest, update the highest values\n",
    "        if GC_content > highest_GC_content:\n",
    "            highest_GC_content = GC_content\n",
    "            highest_GC_contig = contig_name\n",
    "    return highest_GC_contig, highest_GC_content\n",
    "\n",
    "# Call the function and print the result\n",
    "highest_GC_contig, highest_GC_content = find_highest_GC_content(contig_dict)\n",
    "print(f\"The highest GC content is {highest_GC_content:.6f}% in contig {highest_GC_contig}.\")    \n",
    "\n",
    "\n",
    "\n"
   ]
  },
  {
   "cell_type": "markdown",
   "metadata": {},
   "source": [
    "Evolution as a Sequence of Mistakes:\n",
    "\n",
    "Given: Two DNA strings s and t of equal length (not exceeding 1 kbp).\n",
    "\n",
    "Return: The Hamming distance dH(s,t)."
   ]
  },
  {
   "cell_type": "code",
   "execution_count": 6,
   "metadata": {},
   "outputs": [
    {
     "name": "stdout",
     "output_type": "stream",
     "text": [
      "475\n"
     ]
    }
   ],
   "source": [
    "with open(\"../bioinformatics_stronghold/txt/rosalind_hamm.txt\", \"r\") as f:\n",
    "    s1 = f.readline().strip()\n",
    "    s2 = f.readline().strip()\n",
    "    dh = 0    \n",
    "    for i in range(len(s1)):\n",
    "        if s1[i]!= s2[i]:\n",
    "            dh += 1\n",
    "\n",
    "    print(dh)\n",
    "\n"
   ]
  }
 ],
 "metadata": {
  "kernelspec": {
   "display_name": "Python 3",
   "language": "python",
   "name": "python3"
  },
  "language_info": {
   "codemirror_mode": {
    "name": "ipython",
    "version": 3
   },
   "file_extension": ".py",
   "mimetype": "text/x-python",
   "name": "python",
   "nbconvert_exporter": "python",
   "pygments_lexer": "ipython3",
   "version": "3.12.2"
  }
 },
 "nbformat": 4,
 "nbformat_minor": 2
}
