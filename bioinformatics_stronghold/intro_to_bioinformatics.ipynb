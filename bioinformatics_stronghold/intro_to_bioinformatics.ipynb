{
 "cells": [
  {
   "cell_type": "markdown",
   "metadata": {},
   "source": [
    "Given: A DNA string s of length at most 1000 nt.\n",
    "\n",
    "Return: Four integers (separated by spaces) counting the respective number of times that the symbols 'A', 'C', 'G', and 'T' occur in s."
   ]
  },
  {
   "cell_type": "code",
   "execution_count": 4,
   "metadata": {},
   "outputs": [
    {
     "name": "stdout",
     "output_type": "stream",
     "text": [
      "246 219 264 250\n"
     ]
    }
   ],
   "source": [
    "s = \"GCCGGATCATCCTGTTGGCGAGAATGGGGTCCTTGCCTCTACCTCCCCGTGCTAAGAGATCTTAAGGCCCGAGCTTCGCCACGAGCTTACTAAACGCAACGAGTGCTTTGAATACAGTCTGTGCGGCAACATGATTACGGGTTGTGGGCTACGCGTGTGGCTTAGGGGTTTTGGGTCTTTCCCCGACGCAGACTGTGACTCGAAGATCGACTCGAAGCTTGAACACCTTGATGGAGAACACAATTCATCCGTGATCGCACAATCCACATTGTTCATTCTCCACTAAAGAGAGGTACCGCTAAACATCCGTAGCCCGATGCCTCAAATCCGAATCTAAGCGTAAGGATCACGTGTATCTCATGTTTAGGAGGAGAAGGGAGATGTAACCGTCAGGTTCGTCAAAGGCACTAGGACTATGAGAAGAACTCTACAGATGGAATTATTTTGCCCAGGAGAGTTGGTTGTCACGTAAGCGCATGTCTCGCGCTTGCATGAGATCTTGTTAGAGGTTTTTCCAAATTCTGACCGACCTCGTCCGCAAAATCGACTCAGGTGCGACGCACCTAATCATGGATTAACGAACTATTGACAGGTGGGCGTTTATGATCCCGCGAAAGGTCAGAAAGCAATTAAATGGGGTCGTAGTCTAAGCTAGGTGTCTGGATTGCGTGAACCGGCCGGCAGCGGTCAAGGGGCGTCCTAGCACATAAGACAGGGCTAATCTCGGATGGTTAAGGGATCGTAGTTAGCTCTAAGATTTGAGGGAGCAGTCGCTAGCGCGTGACAGCTAACTTCTCGAGTGCCGTTATTATACTCTGGCAACTGCGAAACGTATTGCTTTTAATGGTCCAAGGTGGCATAAAGTAGCTTGCTTCCACTTCCACGGGGCCTTATGCAGGGATTTAGTTACTGGGGTTTATCTACGTCAAGTATTCCTACCGTGGAGAGAACGTAAATGTAGCGAAGCTGGTGTCATATA\"\n",
    "A=0\n",
    "C=0\n",
    "G=0\n",
    "T=0\n",
    "for i in range(len(s)):\n",
    "    if s[i] == 'A':\n",
    "        A = A + 1 \n",
    "    elif s[i] == 'C':\n",
    "        C = C + 1\n",
    "    elif s[i] == 'G':\n",
    "        G = G + 1\n",
    "    elif s[i] == 'T':\n",
    "        T = T + 1\n",
    "\n",
    "print(str(A) + \" \" + str(C) + \" \" + str(G) + \" \" + str(T))"
   ]
  },
  {
   "cell_type": "markdown",
   "metadata": {},
   "source": [
    "Given: A DNA string t having length at most 1000 nt.\n",
    "\n",
    "Return: The transcribed RNA string of t."
   ]
  },
  {
   "cell_type": "code",
   "execution_count": null,
   "metadata": {},
   "outputs": [],
   "source": []
  }
 ],
 "metadata": {
  "kernelspec": {
   "display_name": "Python 3",
   "language": "python",
   "name": "python3"
  },
  "language_info": {
   "codemirror_mode": {
    "name": "ipython",
    "version": 3
   },
   "file_extension": ".py",
   "mimetype": "text/x-python",
   "name": "python",
   "nbconvert_exporter": "python",
   "pygments_lexer": "ipython3",
   "version": "3.12.2"
  }
 },
 "nbformat": 4,
 "nbformat_minor": 2
}
